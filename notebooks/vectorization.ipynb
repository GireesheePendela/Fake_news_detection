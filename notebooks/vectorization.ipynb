{
 "cells": [
  {
   "cell_type": "markdown",
   "id": "5511d0cd",
   "metadata": {},
   "source": [
    "# TF-IDF Vectorization"
   ]
  },
  {
   "cell_type": "code",
   "execution_count": 8,
   "id": "4569f143",
   "metadata": {},
   "outputs": [
    {
     "name": "stdout",
     "output_type": "stream",
     "text": [
      "Index(['title', 'text', 'subject', 'date', 'label', 'clean_text'], dtype='object')\n"
     ]
    }
   ],
   "source": [
    "df = pd.read_csv(r\"C:\\Users\\hp\\Desktop\\Projects\\Fake_news_detection\\data\\cleaned_news.csv\")\n",
    "print(df.columns)  # Confirm clean_text is present\n"
   ]
  },
  {
   "cell_type": "code",
   "execution_count": 10,
   "id": "e52f5219",
   "metadata": {},
   "outputs": [
    {
     "name": "stdout",
     "output_type": "stream",
     "text": [
      "X_train shape: (35412, 218495)\n",
      "X_test shape: (8854, 218495)\n"
     ]
    }
   ],
   "source": [
    "import pandas as pd\n",
    "from sklearn.feature_extraction.text import TfidfVectorizer\n",
    "from sklearn.model_selection import train_test_split\n",
    "\n",
    "# Load cleaned data\n",
    "df = pd.read_csv(r\"C:\\Users\\hp\\Desktop\\Projects\\Fake_news_detection\\data\\cleaned_news.csv\")\n",
    "\n",
    "# Drop rows with missing clean_text\n",
    "df = df.dropna(subset=['clean_text'])\n",
    "\n",
    "# Initialize TF-IDF Vectorizer\n",
    "vectorizer = TfidfVectorizer(stop_words='english', max_df=0.7)\n",
    "\n",
    "# Fit and transform the 'clean_text' column\n",
    "X = vectorizer.fit_transform(df['clean_text'])\n",
    "\n",
    "# Target variable\n",
    "y = df['label']\n",
    "\n",
    "# Train-test split (80% train, 20% test)\n",
    "X_train, X_test, y_train, y_test = train_test_split(\n",
    "    X, y, test_size=0.2, random_state=42\n",
    ")\n",
    "\n",
    "# Check dimensions\n",
    "print(\"X_train shape:\", X_train.shape)\n",
    "print(\"X_test shape:\", X_test.shape)\n"
   ]
  },
  {
   "cell_type": "code",
   "execution_count": 11,
   "id": "66386bcb",
   "metadata": {},
   "outputs": [
    {
     "name": "stdout",
     "output_type": "stream",
     "text": [
      "0\n"
     ]
    }
   ],
   "source": [
    "print(df['clean_text'].isna().sum())  # Count NaNs\n"
   ]
  },
  {
   "cell_type": "code",
   "execution_count": null,
   "id": "036b11f0",
   "metadata": {},
   "outputs": [],
   "source": []
  }
 ],
 "metadata": {
  "kernelspec": {
   "display_name": "base",
   "language": "python",
   "name": "python3"
  },
  "language_info": {
   "codemirror_mode": {
    "name": "ipython",
    "version": 3
   },
   "file_extension": ".py",
   "mimetype": "text/x-python",
   "name": "python",
   "nbconvert_exporter": "python",
   "pygments_lexer": "ipython3",
   "version": "3.11.7"
  }
 },
 "nbformat": 4,
 "nbformat_minor": 5
}
