{
 "cells": [
  {
   "cell_type": "markdown",
   "id": "acc249ec",
   "metadata": {},
   "source": [
    "# Load and Combing the Data"
   ]
  },
  {
   "cell_type": "code",
   "execution_count": 3,
   "id": "2f0ed979",
   "metadata": {},
   "outputs": [
    {
     "name": "stdout",
     "output_type": "stream",
     "text": [
      "                                               title  \\\n",
      "0  Justices hostile to Virginia Republicans in bl...   \n",
      "1  Trump to detour from campaign to visit Scotlan...   \n",
      "2   Two Days Ago, Trump Asked Russia To Hack Clin...   \n",
      "3  SHOCKING: Why Our Fed Government Will Grant “D...   \n",
      "4   Hillary’s Message To Former Miss Universe Cal...   \n",
      "\n",
      "                                                text       subject  \\\n",
      "0  WASHINGTON (Reuters) - Supreme Court justices ...  politicsNews   \n",
      "1  WASHINGTON (Reuters) - Facing slumping poll nu...  politicsNews   \n",
      "2  It s time the American people wake up to the d...          News   \n",
      "3  If we didn t know better, we d almost believe ...     left-news   \n",
      "4  Miss Universe 1996 Alicia Machado is now an Am...          News   \n",
      "\n",
      "              date  label  \n",
      "0  March 21, 2016       1  \n",
      "1   June 22, 2016       1  \n",
      "2    July 29, 2016      0  \n",
      "3      Apr 7, 2015      0  \n",
      "4     May 20, 2016      0  \n",
      "label\n",
      "0    23481\n",
      "1    21417\n",
      "Name: count, dtype: int64\n"
     ]
    }
   ],
   "source": [
    "import pandas as pd\n",
    "\n",
    "# Load the datasets\n",
    "fake_df = pd.read_csv(r\"C:\\Users\\hp\\Desktop\\projects\\fake_news_detection\\data\\Fake.csv\")\n",
    "real_df = pd.read_csv(r\"C:\\Users\\hp\\Desktop\\projects\\fake_news_detection\\data\\True.csv\")\n",
    "\n",
    "# Add labels\n",
    "fake_df['label'] = 0  # 0 = Fake\n",
    "real_df['label'] = 1  # 1 = Real\n",
    "\n",
    "# Combine the two datasets\n",
    "df = pd.concat([fake_df, real_df])\n",
    "\n",
    "# Shuffle the rows\n",
    "df = df.sample(frac=1).reset_index(drop=True)\n",
    "\n",
    "# Quick peek\n",
    "print(df.head())\n",
    "print(df['label'].value_counts())\n"
   ]
  },
  {
   "cell_type": "code",
   "execution_count": null,
   "id": "c2756503",
   "metadata": {},
   "outputs": [],
   "source": []
  }
 ],
 "metadata": {
  "kernelspec": {
   "display_name": "base",
   "language": "python",
   "name": "python3"
  },
  "language_info": {
   "codemirror_mode": {
    "name": "ipython",
    "version": 3
   },
   "file_extension": ".py",
   "mimetype": "text/x-python",
   "name": "python",
   "nbconvert_exporter": "python",
   "pygments_lexer": "ipython3",
   "version": "3.11.7"
  }
 },
 "nbformat": 4,
 "nbformat_minor": 5
}
