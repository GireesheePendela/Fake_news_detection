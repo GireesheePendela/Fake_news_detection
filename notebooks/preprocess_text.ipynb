{
 "cells": [
  {
   "cell_type": "markdown",
   "id": "b92f4fc4",
   "metadata": {},
   "source": [
    "# Preprocessing the data "
   ]
  },
  {
   "cell_type": "code",
   "execution_count": 2,
   "id": "af8d2ad8",
   "metadata": {},
   "outputs": [],
   "source": [
    "import pandas as pd\n",
    "import re\n",
    "import nltk\n",
    "from nltk.corpus import stopwords\n",
    "from nltk.stem import WordNetLemmatizer\n",
    "# Load the combined dataset\n",
    "df = pd.read_csv(r\"C:\\Users\\hp\\Desktop\\Projects\\Fake_news_detection\\data\\combined_news.csv\")"
   ]
  },
  {
   "cell_type": "code",
   "execution_count": 3,
   "id": "fabc263f",
   "metadata": {},
   "outputs": [
    {
     "name": "stderr",
     "output_type": "stream",
     "text": [
      "[nltk_data] Downloading package stopwords to\n",
      "[nltk_data]     C:\\Users\\hp\\AppData\\Roaming\\nltk_data...\n",
      "[nltk_data]   Package stopwords is already up-to-date!\n",
      "[nltk_data] Downloading package punkt to\n",
      "[nltk_data]     C:\\Users\\hp\\AppData\\Roaming\\nltk_data...\n",
      "[nltk_data]   Package punkt is already up-to-date!\n",
      "[nltk_data] Downloading package wordnet to\n",
      "[nltk_data]     C:\\Users\\hp\\AppData\\Roaming\\nltk_data...\n",
      "[nltk_data]   Package wordnet is already up-to-date!\n"
     ]
    },
    {
     "name": "stdout",
     "output_type": "stream",
     "text": [
      "                                                text  \\\n",
      "0  WASHINGTON (Reuters) - Supreme Court justices ...   \n",
      "1  WASHINGTON (Reuters) - Facing slumping poll nu...   \n",
      "2  It s time the American people wake up to the d...   \n",
      "3  If we didn t know better, we d almost believe ...   \n",
      "4  Miss Universe 1996 Alicia Machado is now an Am...   \n",
      "\n",
      "                                          clean_text  \n",
      "0  washington reuters supreme court justice monda...  \n",
      "1  washington reuters facing slumping poll number...  \n",
      "2  time american people wake danger treasonous na...  \n",
      "3  know better almost believe federal government ...  \n",
      "4  miss universe 1996 alicia machado american cit...  \n"
     ]
    }
   ],
   "source": [
    "\n",
    "# Download necessary NLTK resources (run once)\n",
    "nltk.download('stopwords')\n",
    "nltk.download('punkt')\n",
    "nltk.download('wordnet')\n",
    "\n",
    "# Initialize stopwords and lemmatizer\n",
    "stop_words = set(stopwords.words('english'))\n",
    "lemmatizer = WordNetLemmatizer()\n",
    "\n",
    "# Define text preprocessing function\n",
    "def clean_text(text):\n",
    "    text = str(text).lower()                              # Lowercase\n",
    "    text = re.sub(r'[^\\w\\s]', '', text)                   # Remove punctuation\n",
    "    words = nltk.word_tokenize(text)                      # Tokenize\n",
    "    words = [w for w in words if w not in stop_words]     # Remove stopwords\n",
    "    words = [lemmatizer.lemmatize(w) for w in words]      # Lemmatize\n",
    "    return ' '.join(words).strip()                        # Join and remove extra spaces\n",
    "\n",
    "# Apply preprocessing to the 'text' column\n",
    "df['clean_text'] = df['text'].apply(clean_text)\n",
    "\n",
    "# Preview results\n",
    "print(df[['text', 'clean_text']].head())\n"
   ]
  },
  {
   "cell_type": "code",
   "execution_count": null,
   "id": "137c730d",
   "metadata": {},
   "outputs": [],
   "source": []
  }
 ],
 "metadata": {
  "kernelspec": {
   "display_name": "base",
   "language": "python",
   "name": "python3"
  },
  "language_info": {
   "codemirror_mode": {
    "name": "ipython",
    "version": 3
   },
   "file_extension": ".py",
   "mimetype": "text/x-python",
   "name": "python",
   "nbconvert_exporter": "python",
   "pygments_lexer": "ipython3",
   "version": "3.11.7"
  }
 },
 "nbformat": 4,
 "nbformat_minor": 5
}
